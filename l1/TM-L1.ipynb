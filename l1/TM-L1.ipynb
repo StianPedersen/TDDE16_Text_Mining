{
 "cells": [
  {
   "cell_type": "markdown",
   "metadata": {},
   "source": [
    "# L1: Information retrieval"
   ]
  },
  {
   "cell_type": "markdown",
   "metadata": {},
   "source": [
    "In this lab you will apply basic techniques from information retrieval to implement the core of a minimalistic search engine. The data for this lab consists of a collection of app descriptions scraped from the [Google Play Store](https://play.google.com/store/apps?hl=en). From this collection, your search engine should retrieve those apps whose descriptions best match a given query under the vector space model."
   ]
  },
  {
   "cell_type": "markdown",
   "metadata": {},
   "source": [
    "**⚠️ Make sure that you have read the [Rules for hand-in assignments](https://www.ida.liu.se/~TDDE16/exam.en.shtml#handins) and the [Policy on cheating and plagiarism](https://www.ida.liu.se/~TDDE16/exam.en.shtml#cheating) before starting with this lab.** "
   ]
  },
  {
   "cell_type": "markdown",
   "metadata": {},
   "source": [
    "## Data set"
   ]
  },
  {
   "cell_type": "markdown",
   "metadata": {},
   "source": [
    "The app descriptions come in the form of a compressed [JSON](https://en.wikipedia.org/wiki/JSON) file. Start by loading this file into a [Pandas](https://pandas.pydata.org) [DataFrame](https://pandas.pydata.org/pandas-docs/stable/getting_started/dsintro.html#dataframe)."
   ]
  },
  {
   "cell_type": "code",
   "execution_count": 33,
   "metadata": {},
   "outputs": [],
   "source": [
    "\n",
    "import bz2\n",
    "import pandas as pd\n",
    "import spacy\n",
    "\n",
    "with bz2.open('app-descriptions.json.bz2') as source:\n",
    "    df = pd.read_json(source)\n",
    "\n",
    "nlp = spacy.load(\"en_core_web_sm\")"
   ]
  },
  {
   "cell_type": "markdown",
   "metadata": {},
   "source": [
    "In Pandas, a DataFrame is a table with indexed rows and labelled columns of potentially different types. You can access data in a DataFrame in various ways, including by row and column. To give an example, the code in the next cell shows rows 200–204:"
   ]
  },
  {
   "cell_type": "code",
   "execution_count": 34,
   "metadata": {},
   "outputs": [
    {
     "data": {
      "text/html": [
       "<div>\n",
       "<style scoped>\n",
       "    .dataframe tbody tr th:only-of-type {\n",
       "        vertical-align: middle;\n",
       "    }\n",
       "\n",
       "    .dataframe tbody tr th {\n",
       "        vertical-align: top;\n",
       "    }\n",
       "\n",
       "    .dataframe thead th {\n",
       "        text-align: right;\n",
       "    }\n",
       "</style>\n",
       "<table border=\"1\" class=\"dataframe\">\n",
       "  <thead>\n",
       "    <tr style=\"text-align: right;\">\n",
       "      <th></th>\n",
       "      <th>name</th>\n",
       "      <th>description</th>\n",
       "    </tr>\n",
       "  </thead>\n",
       "  <tbody>\n",
       "    <tr>\n",
       "      <th>200</th>\n",
       "      <td>Brick Breaker Star: Space King</td>\n",
       "      <td>Introducing the best Brick Breaker game that e...</td>\n",
       "    </tr>\n",
       "    <tr>\n",
       "      <th>201</th>\n",
       "      <td>Brick Classic - Brick Game</td>\n",
       "      <td>Classic Brick Game!\\n\\nBrick Classic is a popu...</td>\n",
       "    </tr>\n",
       "    <tr>\n",
       "      <th>202</th>\n",
       "      <td>Bricks Breaker - Glow Balls</td>\n",
       "      <td>Bricks Breaker - Glow Balls is a addictive and...</td>\n",
       "    </tr>\n",
       "    <tr>\n",
       "      <th>203</th>\n",
       "      <td>Bricks Breaker Quest</td>\n",
       "      <td>How to play\\n- The ball flies to wherever you ...</td>\n",
       "    </tr>\n",
       "    <tr>\n",
       "      <th>204</th>\n",
       "      <td>Brothers in Arms® 3</td>\n",
       "      <td>Fight brave soldiers from around the globe on ...</td>\n",
       "    </tr>\n",
       "  </tbody>\n",
       "</table>\n",
       "</div>"
      ],
      "text/plain": [
       "                               name  \\\n",
       "200  Brick Breaker Star: Space King   \n",
       "201      Brick Classic - Brick Game   \n",
       "202     Bricks Breaker - Glow Balls   \n",
       "203            Bricks Breaker Quest   \n",
       "204             Brothers in Arms® 3   \n",
       "\n",
       "                                           description  \n",
       "200  Introducing the best Brick Breaker game that e...  \n",
       "201  Classic Brick Game!\\n\\nBrick Classic is a popu...  \n",
       "202  Bricks Breaker - Glow Balls is a addictive and...  \n",
       "203  How to play\\n- The ball flies to wherever you ...  \n",
       "204  Fight brave soldiers from around the globe on ...  "
      ]
     },
     "execution_count": 34,
     "metadata": {},
     "output_type": "execute_result"
    }
   ],
   "source": [
    "df[200:205]"
   ]
  },
  {
   "cell_type": "markdown",
   "metadata": {},
   "source": [
    "As you can see, there are two labelled columns: `name` (the name of the app) and `description` (a textual description). The code in the next cell shows how to access fields from the description column."
   ]
  },
  {
   "cell_type": "code",
   "execution_count": 35,
   "metadata": {},
   "outputs": [
    {
     "data": {
      "text/plain": [
       "200    Introducing the best Brick Breaker game that e...\n",
       "201    Classic Brick Game!\\n\\nBrick Classic is a popu...\n",
       "202    Bricks Breaker - Glow Balls is a addictive and...\n",
       "203    How to play\\n- The ball flies to wherever you ...\n",
       "204    Fight brave soldiers from around the globe on ...\n",
       "Name: description, dtype: object"
      ]
     },
     "execution_count": 35,
     "metadata": {},
     "output_type": "execute_result"
    }
   ],
   "source": [
    "df['description'][200:205]"
   ]
  },
  {
   "cell_type": "markdown",
   "metadata": {},
   "source": [
    "## Problem 1: Preprocessing"
   ]
  },
  {
   "cell_type": "markdown",
   "metadata": {},
   "source": [
    "Your first task is to implement a preprocessor for your search engine. In the vector space model, *preprocessing* refers to any transformation applied to a text before vectorisation. Here you can restrict yourself to a simple type of preprocessing: tokenisation, stop word removal, and lemmatisation.\n",
    "\n",
    "To implement your preprocessor, you can use [spaCy](https://spacy.io). Make sure to read the [Linguistic annotations](https://spacy.io/usage/spacy-101#annotations) section of the spaCy&nbsp;101; that section contains all the information you need for this problem (and more).\n",
    "\n",
    "Implement your preprocessor by completing the skeleton code in the next cell, adding additional code as you deem necessary."
   ]
  },
  {
   "cell_type": "code",
   "execution_count": 36,
   "metadata": {},
   "outputs": [],
   "source": [
    "\n",
    "def preprocess(text):\n",
    "    # TODO: Replace the next line with your own code.\n",
    "    doc = nlp(text)\n",
    "    list = []\n",
    "    for token in doc:\n",
    "        if not token.is_stop and token.is_alpha:\n",
    "            list.append(token.lemma_)\n",
    "    return list"
   ]
  },
  {
   "cell_type": "markdown",
   "metadata": {},
   "source": [
    "Your implementation should conform to the following specification:\n",
    "\n",
    "<strong>preprocess</strong> (<em>text</em>)\n",
    "\n",
    "> Preprocesses the given text by tokenising it, removing any stop words, replacing each remaining token with its lemma (base form), and discarding all lemmas that contain non-alphabetical characters. Returns the list of remaining lemmas (represented as strings).\n",
    "\n",
    "To speed up the preprocessing, you should disable loading those spaCy components you do not need, such as the parser, and named entity recogniser. See [here](https://spacy.io/usage/processing-pipelines#disabling) for more information about this."
   ]
  },
  {
   "cell_type": "markdown",
   "metadata": {},
   "source": [
    "### 🤞 Test your code\n",
    "\n",
    "Test your implementation by running the following cell:"
   ]
  },
  {
   "cell_type": "code",
   "execution_count": 37,
   "metadata": {},
   "outputs": [
    {
     "data": {
      "text/plain": [
       "['Apple', 'look', 'buy', 'startup', 'billion']"
      ]
     },
     "execution_count": 37,
     "metadata": {},
     "output_type": "execute_result"
    }
   ],
   "source": [
    "preprocess('Apple is looking at buying U.K. startup for $1 billion')"
   ]
  },
  {
   "cell_type": "markdown",
   "metadata": {},
   "source": [
    "This should give the following output:\n"
   ]
  },
  {
   "cell_type": "raw",
   "metadata": {},
   "source": [
    "['Apple', 'look', 'buy', 'startup', 'billion']"
   ]
  },
  {
   "cell_type": "markdown",
   "metadata": {},
   "source": [
    "## Problem 2: Vectorising"
   ]
  },
  {
   "cell_type": "markdown",
   "metadata": {},
   "source": [
    "Your next task is to vectorise the data – and more specifically, to map each app description to a tf–idf vector. For this you can use the [TfidfVectorizer](https://scikit-learn.org/stable/modules/generated/sklearn.feature_extraction.text.TfidfVectorizer.html) class from [scikit-learn](https://scikit-learn.org/stable/). Make sure to specify your preprocessor from the previous problem as the `tokenizer` &ndash; not the `preprocessor`! &ndash; for the vectoriser. (In scikit-learn terminology, the `preprocessor` handles string-level preprocessing.)"
   ]
  },
  {
   "cell_type": "code",
   "execution_count": 38,
   "metadata": {},
   "outputs": [],
   "source": [
    "import numpy as np\n",
    "from sklearn.feature_extraction.text import TfidfVectorizer\n",
    "\n",
    "vectorizer = TfidfVectorizer(tokenizer=preprocess)\n",
    "X = vectorizer.fit_transform(df['description'])"
   ]
  },
  {
   "cell_type": "markdown",
   "metadata": {},
   "source": [
    "### 🤞 Test your code\n",
    "\n",
    "Test your implementation by running the following cell:"
   ]
  },
  {
   "cell_type": "code",
   "execution_count": 39,
   "metadata": {},
   "outputs": [
    {
     "data": {
      "text/plain": [
       "(1614, 21396)"
      ]
     },
     "execution_count": 39,
     "metadata": {},
     "output_type": "execute_result"
    }
   ],
   "source": [
    "X.shape"
   ]
  },
  {
   "cell_type": "markdown",
   "metadata": {},
   "source": [
    "This should show the dimensions of the matrix `X` to be around 1614 × 21389. (The number of rows should be exactly 1614. The number of columns may differ from that given here depending on the version of spaCy and the version of the language model used, as well as the pre-processing.)"
   ]
  },
  {
   "cell_type": "markdown",
   "metadata": {},
   "source": [
    "## Problem 3: Retrieving"
   ]
  },
  {
   "cell_type": "markdown",
   "metadata": {},
   "source": [
    "To complete the search engine, your last task is to write a function that returns the most relevant app descriptions for a given query. An easy way to solve this task is to use scikit-learn&rsquo;s [NearestNeighbors](https://scikit-learn.org/stable/modules/generated/sklearn.neighbors.NearestNeighbors.html) class. That class implements unsupervised nearest neighbours learning and allows you to easily find a predefined number of app descriptions whose vector representations are closest to the query vector."
   ]
  },
  {
   "cell_type": "code",
   "execution_count": 69,
   "metadata": {},
   "outputs": [],
   "source": [
    "from sklearn.neighbors import NearestNeighbors\n",
    "def search(query):\n",
    "    # TODO: Replace the next line with your own code.\n",
    "    neigh = NearestNeighbors(n_neighbors=10)\n",
    "    neigh.fit(X)\n",
    "    tquery = vectorizer.transform([query])\n",
    "    results = neigh.kneighbors(tquery, return_distance=False)\n",
    "    results2 = []\n",
    "    for answer in results :\n",
    "        results2.append(df['name'][answer])\n",
    "    return results2"
   ]
  },
  {
   "cell_type": "markdown",
   "metadata": {},
   "source": [
    "Your implementation should conform to the following specification:\n",
    "\n",
    "<strong>search</strong> (<em>query</em>)\n",
    "\n",
    "> Returns the 10 app descriptions most similar (in terms of cosine similarity) to the given query as a Pandas DataFrame."
   ]
  },
  {
   "cell_type": "markdown",
   "metadata": {},
   "source": [
    "### 🤞 Test your code\n",
    "\n",
    "Test your implementation by running the following cell:"
   ]
  },
  {
   "cell_type": "code",
   "execution_count": 71,
   "metadata": {},
   "outputs": [
    {
     "data": {
      "text/plain": [
       "[1301                         Subway Surfers\n",
       " 1428                  Train Conductor World\n",
       " 1394                             Tiny Rails\n",
       " 1300                 Subway Princess Runner\n",
       " 998          No Humanity - The Hardest Game\n",
       " 1429    Train for Animals - BabyMagica free\n",
       " 1168                                   Rush\n",
       " 786                      LEGO® DUPLO® Train\n",
       " 1465        Virus War - Space Shooting Game\n",
       " 1153                              Road Riot\n",
       " Name: name, dtype: object]"
      ]
     },
     "execution_count": 71,
     "metadata": {},
     "output_type": "execute_result"
    }
   ],
   "source": [
    "search('dodge trains')"
   ]
  },
  {
   "cell_type": "markdown",
   "metadata": {},
   "source": [
    "The top hit in the list should be *Subway Surfers*."
   ]
  },
  {
   "cell_type": "markdown",
   "metadata": {},
   "source": [
    "## Problem 4: Finding terms with low/high idf"
   ]
  },
  {
   "cell_type": "markdown",
   "metadata": {},
   "source": [
    "Recall that the inverse document frequency (idf) of a term is the lower, the more documents from a given collection the term appears in. To get a better understanding for this concept, your next task is to write code to find out which terms from the app descriptions have the lowest/highest idf.\n",
    "\n",
    "Start by sorting the terms in increasing order of idf, breaking ties by falling back on alphabetic order."
   ]
  },
  {
   "cell_type": "code",
   "execution_count": 76,
   "metadata": {},
   "outputs": [
    {
     "name": "stdout",
     "output_type": "stream",
     "text": [
      "{'\\ufeff': 5, '1': 2639, '0': 3551, ' ': 478652, 'i': 156585, 's': 145021, 'a': 190613, 'D': 6674, 'u': 77328, 'n': 154774, 'g': 53434, 'e': 262622, 'o': 182092, 'C': 8881, 'r': 150661, 'w': 36980, 'l': 105988, 'P': 8133, 'z': 5404, 'R': 7140, 'G': 5427, 'M': 6244, 't': 178482, 'c': 77053, 'h': 82234, 'm': 60395, '.': 24797, 'd': 83584, ',': 23408, 'f': 46226, 'y': 52143, '\\n': 46004, '“': 419, 'T': 12408, 'k': 21071, '”': 441, '-': 16063, 'A': 11317, 'b': 30564, '?': 1554, 'v': 26301, 'p': 56268, 'x': 4777, 'O': 6725, 'E': 10865, \"'\": 2393, 'H': 3999, 'B': 5655, 'U': 4189, 'F': 6173, 'I': 7746, '’': 2450, '–': 633, 'K': 1877, '!': 9508, '7': 621, 'V': 1973, 'å': 543, 'j': 3116, 'ä': 945, 'ö': 639, ':': 7075, '•': 3353, 'L': 5950, 'S': 12102, 'W': 4852, '2': 2145, '4': 1049, 'N': 5672, '&': 955, 'q': 2489, '🎨': 20, '🤓': 3, '🎓': 8, 'Y': 3074, '👶': 2, '3': 1793, '️': 262, '⃣': 3, '🐸': 2, '🐱': 22, 'J': 1116, '=': 1190, '5': 1207, 'X': 376, '+': 883, '*': 3056, '/': 6588, '™': 224, '(': 1471, ')': 1556, '@': 458, '✔': 245, '…': 132, '►': 107, '\"': 1423, '6': 644, '☛': 21, '9': 682, '🚀': 16, '‘': 118, '«': 27, '»': 48, '8': 606, 'Z': 480, '★': 1150, 'Ü': 13, 'ü': 209, 'Ä': 17, 'ß': 8, '#': 155, ';': 449, '！': 40, '◆': 161, '■': 190, '✍': 3, '´': 10, '🤗': 11, '🌈': 6, '👨': 13, '\\u200d': 36, '👩': 17, '👧': 8, '👦': 7, '_': 2367, '%': 85, '【': 41, '】': 41, '®': 146, '💥': 18, '🔮': 1, '⭐': 143, '✨': 17, '⚔': 23, '🛡': 14, '🗡': 1, '📲': 2, '⚡': 21, 'Q': 370, '—': 519, '©': 94, '塔': 1, '防': 1, '\\xa0': 817, '>': 318, '●': 413, '😊': 3, '\\u200b': 40, '🐳': 1, '🦁': 1, '🐷': 1, '👑': 3, '💯': 7, '🎡': 1, '📮': 1, '💕': 13, '👹': 1, '🎁': 10, '🙊': 1, '🎮': 15, '❌': 3, '❝': 9, '❞': 9, '▸': 56, '$': 57, '⚏': 6, '[': 221, ']': 222, '⇢': 6, '：': 32, 'А': 37, 'º': 1, '°': 1, '▶': 130, '◀': 7, '·': 56, 'ㄴ': 1, '→': 49, 'ì': 38, 'ê': 78, 'ố': 37, 'ư': 111, 'ũ': 17, 'ế': 92, 'ạ': 89, 'ấ': 58, 'ỉ': 8, 'ò': 18, 'á': 91, 'đ': 182, 'ầ': 37, 'ệ': 63, 'ù': 20, 'ả': 57, 'ộ': 81, 'ọ': 17, 'ứ': 15, 'ề': 19, 'ô': 62, 'ữ': 31, 'ể': 24, 'é': 73, 'ủ': 34, 'à': 183, 'ắ': 18, 'Ớ': 6, 'Ắ': 1, 'Ó': 2, 'Ồ': 2, 'ớ': 67, 'ó': 36, 'ồ': 25, 'ậ': 31, 'ẹ': 14, 'ổ': 11, 'Đ': 19, 'í': 30, 'ơ': 39, 'ờ': 55, 'ú': 20, 'ã': 16, 'ự': 19, 'ừ': 19, 'õ': 8, 'ẫ': 9, 'â': 37, 'ợ': 32, 'ở': 29, 'ụ': 14, 'ằ': 2, 'Ê': 3, 'Ả': 4, 'Ủ': 4, 'Ề': 1, 'Ạ': 3, 'ẽ': 12, 'ặ': 17, 'ẳ': 6, 'ý': 3, 'ị': 22, 'Ữ': 1, 'Á': 3, 'Ư': 5, 'Ế': 5, 'Ỷ': 1, 'ỷ': 2, 'ử': 11, 'ễ': 6, 'Ờ': 2, 'Ợ': 1, 'À': 3, 'Ẳ': 1, 'Ấ': 2, 'ă': 26, 'Ì': 2, 'Â': 2, 'Ố': 1, 'Í': 3, 'Ă': 2, 'Ỏ': 1, 'è': 11, 'Ú': 2, 'Ừ': 1, 'ỏ': 8, 'Ô': 1, 'Ể': 1, 'ỗ': 3, 'ĩ': 3, '♫': 7, '♞': 2, '✶': 4, 'ñ': 16, 'ç': 124, 'ไ': 44, 'ท': 30, 'ย': 37, '한': 73, '국': 11, '어': 13, '中': 28, '國': 1, '（': 2, '繁': 8, '體': 8, '）': 2, '文': 23, '简': 10, '体': 13, '日': 21, '本': 15, '語': 23, 'ह': 2, 'ि': 2, 'ं': 1, 'द': 2, 'ी': 2, 'р': 762, 'у': 430, 'с': 862, 'к': 628, 'и': 1175, 'й': 261, '🗾': 2, '🏆': 30, '♥': 87, '😁': 1, '\\u2028': 71, '💣': 7, '🔥': 19, '🥚': 1, '🏹': 1, '💬': 4, '🎦': 1, '√': 58, 'ı': 549, 'ş': 170, 'İ': 61, 'ğ': 101, 'Ö': 24, 'Ş': 8, 'Ç': 10, '✫': 31, '一': 16, '🏁': 5, '🚦': 2, '🌀': 1, '🤖': 3, '🤴': 1, '🚗': 6, '🏎': 3, '🌎': 6, '☠': 5, '🕹': 5, '🎲': 1, 'づ': 2, '￣': 2, '³': 9, '‼': 1, '◉': 26, '~': 127, '◈': 33, '🇪': 4, '🇸': 3, '🇺': 5, '🇬': 2, '🇧': 2, '🇮': 3, '🇹': 3, '🇫': 2, '🇷': 5, '🇦': 2, '🇲': 2, '🇽': 2, '✅': 45, '💸': 6, '<': 2, 'ﬁ': 5, 'ﬂ': 3, '🚲': 11, '，': 64, '👍': 41, '❤': 48, '👉': 61, '🔷': 8, '🔶': 2, '🌾': 2, '🐶': 2, '・': 30, 'о': 1586, '▼': 7, '＠': 1, '🤔': 2, '😝': 1, '🌟': 71, '🎉': 19, '💜': 1, '💙': 2, '💛': 9, '💚': 3, '😱': 1, '💪': 31, '🏻': 10, 'Р': 40, '🔴': 2, '🔵': 2, '👥': 1, '🙋': 3, '♂': 1, '🥇': 7, '🚌': 1, '📢': 1, '🛑': 4, '😋': 5, '🍰': 3, '👬': 1, '📱': 4, '📵': 1, '🍭': 33, '🍬': 10, '🍫': 1, '🍩': 4, '👏': 7, '📍': 3, '`': 7, '✜': 11, '🚩': 1, '♠': 116, '☆': 77, 'ø': 1, 'ا': 1166, 'ل': 676, 'ع': 222, 'َ': 2, 'ر': 386, 'ب': 360, 'ِ': 2, 'ي': 315, 'ة': 179, 'ُ': 1, 'न': 1, '्': 1, 'ภ': 1, 'า': 32, 'ษ': 2, '🍪': 19, '🍳': 10, '🏃': 6, '🔪': 1, '🕑': 1, '🍕': 2, '🍨': 1, '⏩': 1, '🌄': 1, '🍽': 2, '🛎': 1, '🍴': 4, '💰': 10, '🌮': 2, '💵': 1, '🍖': 1, '🔈': 1, '🎧': 4, '🎙': 1, '✓': 62, '￼': 2, '🥣': 2, '😍': 12, '☕': 4, '🍹': 2, '🍦': 1, '🍮': 2, '🏖': 5, '😘': 4, '⏰': 4, '🌭': 1, 'Ň': 1, '\\u2003': 75, '👆': 1, '❖': 17, '─': 165, '※': 31, '🎊': 9, '🤷': 1, '😉': 7, '▪': 6, 'С': 54, '👫': 13, '💃': 3, '🛫': 1, '🛬': 1, '♡': 15, '💌': 4, '⏱': 4, '🐾': 13, 'Å': 9, '😻': 1, '😺': 1, '👪': 3, '🦋': 1, '🎶': 9, '👗': 6, '💄': 2, '⚖': 1, '⚽': 13, '💨': 1, '📅': 1, '👕': 2, '📸': 1, '🚙': 3, '👻': 4, '🍒': 11, 'ง': 35, '︡': 1, '︠': 1, '☑': 19, '👌': 8, 'Д': 28, 'а': 1327, 'В': 62, 'д': 432, '🎇': 4, '📌': 10, '⁃': 41, '『': 14, '』': 14, '⚠': 5, '🏅': 14, '⎯': 20, '🤩': 13, '💖': 12, '💡': 5, '👮': 2, '◎': 2, '☞': 16, '▣': 16, '🎂': 1, '💝': 1, '🍓': 7, '🍌': 1, '📷': 3, '📩': 1, '🔔': 5, '💻': 5, '\\xad': 2, '🍉': 4, '🍊': 9, '😌': 3, '📶': 4, '😂': 2, '⏳': 4, '🏫': 2, '💁': 2, '☃': 12, '👛': 3, '🎈': 2, '🏡': 2, '🏪': 1, '🌌': 3, '📦': 1, '🏢': 3, '🚃': 1, '🚨': 1, '😎': 4, '🎀': 1, '🥦': 1, '🥕': 1, '👠': 3, '👒': 1, '🥝': 1, '🍎': 8, '🌽': 6, '📚': 4, '🚛': 4, '🚰': 2, '🚢': 3, '🍐': 4, '🍏': 4, '👀': 3, '🍇': 5, '🚂': 3, '🍋': 2, '😃': 3, '☝': 4, '░': 6, '█': 35, '▄': 10, '▃': 2, '▂': 2, '▅': 2, '◥': 1, '⊙': 7, '▲': 6, '◤': 1, '🛸': 1, '🌠': 4, '✈': 29, '👁': 1, '⚙': 4, '🏽': 2, '🔬': 1, '📈': 1, '📰': 1, '^': 4, '🎃': 8, 'æ': 1, '⛳': 5, '🏍': 32, '➡': 1, '💎': 27, '🔝': 1, '📖': 4, '🌞': 2, '🐼': 8, '🌸': 1, '😀': 3, '📕': 1, '🖼': 1, '📘': 1, '⚪': 1, '🗺': 3, '📝': 3, '⚫': 1, '🏞': 1, '🔍': 2, '💆': 2, '🔧': 3, '⛰': 2, '🛠': 2, '🎩': 2, '💗': 1, '🔓': 1, '🐍': 1, '🃏': 1, '🗿': 1, '🦈': 2, '🐘': 1, '🕷': 1, '🏠': 1, 'Ğ': 1, '🏌': 2, '👟': 2, '🌐': 1, '⛑': 5, '👜': 2, '📎': 14, '🦄': 4, '👣': 1, '🧐': 2, '😈': 2, '👵': 1, '🍀': 7, '🦎': 2, '🤹': 1, '♀': 9, '🏉': 2, '✦': 11, '😄': 1, 'М': 30, 'ш': 112, 'м': 481, 'е': 1336, 'в': 739, 'ь': 288, 'н': 965, 'я': 352, 'т': 998, 'Т': 30, 'г': 253, 'ы': 383, 'б': 260, 'з': 292, '、': 61, 'л': 636, 'ю': 91, 'К': 27, 'ч': 213, 'щ': 53, '🍢': 1, '🍡': 1, '♨': 1, '🍔': 1, '🐟': 6, '🐠': 1, '🍄': 1, '✉': 3, '🏬': 2, '🛒': 2, '⚓': 11, '⛵': 2, '▷': 2, '½': 2, '《': 6, '麻': 3, '将': 4, '拉': 3, '米': 2, '起': 6, '玩': 16, '》': 6, '在': 7, '法': 7, '上': 14, '也': 3, '进': 4, '行': 7, '了': 4, '优': 6, '化': 2, '并': 1, '根': 1, '据': 2, '大': 9, '马': 2, '地': 4, '而': 2, '制': 1, '作': 9, '的': 43, '游': 8, '戏': 7, '系': 10, '统': 6, '提': 2, '供': 2, '更': 3, '好': 6, '计': 2, '算': 4, '方': 5, '式': 9, '和': 7, '结': 3, '。': 24, '家': 8, '可': 5, '以': 7, '自': 6, '设': 1, '定': 3, '每': 8, '局': 4, '要': 7, '数': 3, '番': 3, '价': 1, '格': 1, '完': 2, '场': 1, '独': 3, '立': 1, '界': 10, '面': 3, '让': 4, '便': 3, '总': 2, '赢': 1, '利': 2, '键': 1, '实': 1, '时': 5, '邀': 2, '请': 2, '身': 2, '边': 1, '朋': 2, '友': 4, '直': 2, '接': 2, '加': 3, '入': 7, '到': 4, '您': 3, '创': 1, '建': 1, '房': 1, '间': 3, '万': 1, '人': 9, '同': 3, '线': 3, '不': 4, '愁': 1, '找': 1, '聊': 3, '天': 6, '跟': 2, '发': 1, '送': 3, '个': 3, '性': 6, '表': 3, '情': 2, '弹': 1, '幕': 1, '等': 4, '再': 1, '是': 8, '单': 1, '纯': 1, '打': 2, '牌': 2, '已': 1, '多': 9, '款': 3, '合': 4, '集': 3, '有': 10, '你': 6, '想': 3, '全': 2, '免': 3, '费': 3, '下': 1, '载': 1, '赠': 1, '金': 3, '币': 3, '区': 1, '块': 1, '链': 1, '技': 2, '术': 3, '保': 1, '证': 1, '公': 4, '平': 2, '暴': 1, '富': 1, '梦': 1, '跨': 1, '台': 3, '休': 1, '闲': 1, '娱': 1, '乐': 3, '棋': 1, '欢': 4, '倍': 1, '翻': 1, '当': 2, '登': 4, '领': 3, '取': 2, '排': 2, '榜': 1, '奖': 1, '励': 1, '出': 1, '钻': 1, '石': 2, '🏝': 1, '💫': 1, '👋': 1, '🔟': 1, '€': 4, '„': 3, 'μ': 2, '🏭': 1, '💤': 1, '🤡': 1, '🤑': 1, '🎆': 8, '🍲': 1, '❗': 1, '↗': 3, '🏙': 8, '🏜': 2, '✭': 7, '✪': 37, '\\u3000': 2, '✯': 41, '\\\\': 5, '🐻': 3, '⬆': 1, '🌳': 1, '🏔': 1, '✋': 1, '❓': 7, '📧': 3, '🐤': 12, '🏀': 1, '🌛': 1, '💑': 3, '💋': 5, '○': 11, '💒': 1, '😏': 1, '😜': 1, '🏰': 2, '🎠': 1, '🎹': 1, '🎼': 2, '🎵': 8, '💊': 4, '🔒': 1, '🔎': 2, '🔫': 2, '🎭': 1, '🐲': 1, '🤘': 1, '🤝': 1, 'É': 7, '🎱': 11, '👸': 16, '🖍': 4, '🧜': 3, '⛄': 1, '🧝': 3, '👓': 1, '💇': 1, '👡': 1, '💅': 4, '👘': 2, '🐴': 1, '⌚': 1, '✴': 2, '📂': 2, '✂': 2, '📹': 2, 'î': 1, '⋇': 2, 'ㅡ': 1, '🎥': 1, '🔊': 1, '💺': 1, '🚘': 4, '🌆': 1, '🐦': 1, '┉': 1, '♬': 18, '🥧': 1, '🇩': 2, '🍧': 1, '🍝': 1, '🇭': 1, 'п': 417, 'Н': 54, 'х': 106, 'З': 22, '🎯': 1, 'О': 47, 'И': 50, 'ж': 156, '👰': 1, 'ц': 71, '🤵': 1, 'Б': 26, 'ф': 51, 'э': 34, 'Е': 35, '🇱': 1, '🇨': 1, 'Г': 11, 'П': 70, '💞': 1, 'Ф': 9, 'У': 22, '💍': 1, 'Э': 8, 'Х': 1, 'Л': 24, 'ё': 13, '🔸': 6, '|': 4, '🙅': 1, '🌝': 1, '🌚': 2, '︎': 9, '♣': 12, '♦': 3, '🆒': 1, '🛣': 1, '🆚': 1, '🌊': 5, '🔨': 2, '🛶': 1, '🌋': 1, '「': 6, '」': 6, 'ł': 1, '๏': 14, '⋆': 8, '🧟': 1, '♛': 5, '―': 1, 'ẩ': 6, 'ỳ': 5, 'ỹ': 4, 'ẻ': 2, 'ẵ': 1, '∞': 117, 'Ầ': 1, '∙': 7, '➾': 11, '🌻': 1, '🔌': 1, '🐰': 1, '📞': 1, '🏗': 1, '🙂': 1, '🎖': 1, '➤': 12, '🤠': 1, '🧠': 4, '🔤': 4, '🐚': 3, '🌴': 1, '🔠': 3, '🔹': 8, '💼': 1, '💘': 1, '👱': 1, '📻': 1, 'ℹ': 1, 'Ч': 11, 'Ш': 5, 'Ц': 2, 'Ё': 1, 'Ж': 3, '🌅': 2, '⚊': 2, '☄': 2, 'ᚙ': 2, 'Ы': 6, 'Й': 4, 'Ю': 1, 'Я': 4, 'Ь': 2, 'ъ': 1, 'ک': 92, 'س': 183, 'ن': 338, 'و': 401, 'ت': 359, 'ی': 304, 'ز': 159, 'گ': 38, 'ه': 236, 'م': 493, 'خ': 67, 'ط': 61, 'د': 319, 'ق': 126, 'پ': 21, 'ذ': 44, 'آ': 21, 'ش': 128, 'ف': 158, '،': 93, 'ج': 127, 'چ': 7, 'ظ': 10, 'ح': 117, 'ص': 78, 'ء': 15, 'ژ': 5, 'ض': 39, 'غ': 15, '📜': 4, 'ئ': 27, '\\u200c': 2, 'أ': 33, 'ك': 119, 'ث': 40, 'ى': 38, 'إ': 23, '٢': 1, '٤': 1, 'ً': 1, 'ؤ': 9, 'ـ': 3, 'พ': 16, '่': 38, 'ด': 27, 'ั': 25, 'ม': 43, 'ี': 25, 'ห': 13, 'ร': 35, 'ื': 8, 'อ': 33, 'ำ': 6, 'เ': 44, 'ป': 15, '็': 7, 'น': 51, 'ก': 29, 'ิ': 20, 'ใ': 6, 'จ': 18, 'ต': 13, '้': 43, 'ศ': 1, 'ะ': 13, 'แ': 22, 'ล': 28, 'ค': 11, 'ว': 12, 'ฯ': 5, 'ส': 23, '๊': 3, 'ผ': 5, 'บ': 17, 'ู': 7, 'ุ': 6, 'ณ': 2, 'ถ': 3, 'ช': 7, 'โ': 7, 'ึ': 2, 'ฟ': 6, '์': 8, 'ข': 4, 'ซ': 3, 'ญ': 2, 'ๆ': 2, 'ฮ': 2, 'ํ': 1, '字': 5, '探': 3, 'し': 32, '？': 3, 'パ': 15, 'ズ': 9, 'ル': 24, 'ゲ': 13, 'ー': 41, 'ム': 20, '新': 4, '感': 5, '覚': 2, '＆': 4, '究': 2, '極': 2, 'の': 28, '暇': 2, 'つ': 4, 'ぶ': 2, '単': 13, 'き': 8, 'に': 31, 'も': 12, '王': 2, '道': 2, 'を': 32, 'や': 4, 'り': 10, '尽': 2, 'く': 9, 'た': 19, 'あ': 6, 'な': 28, '今': 3, 'す': 14, 'ぐ': 2, 'ク': 11, 'ロ': 11, 'ス': 21, 'ダ': 3, 'ウ': 2, 'ン': 12, 'ド': 13, 'て': 16, '無': 2, '料': 1, 'で': 16, 'プ': 15, 'レ': 13, 'イ': 21, 'ま': 8, 'ょ': 2, 'う': 15, 'こ': 3, 'は': 14, '脳': 3, 'ト': 24, 'ワ': 4, '夢': 2, 'っ': 6, '素': 2, '満': 3, '載': 3, 'ひ': 1, 'ら': 14, 'め': 5, 'と': 15, '彙': 2, '力': 6, '試': 2, 'み': 2, '斬': 2, 'デ': 1, 'ザ': 1, 'ボ': 8, 'い': 8, '簡': 3, '気': 3, '軽': 3, '隠': 1, 'れ': 7, 'だ': 3, 'け': 2, 'キ': 4, 'マ': 3, '時': 2, '間': 3, 'ぴ': 1, 'ナ': 5, 'さ': 6, 'ん': 6, '毎': 1, 'グ': 3, 'ち': 4, 'ろ': 2, '存': 1, '見': 4, '小': 4, '判': 2, 'え': 3, 'ゃ': 1, '楽': 2, 'チ': 1, 'ャ': 3, 'ジ': 6, '始': 2, '後': 1, 'か': 4, '難': 2, '関': 1, '限': 2, '挑': 1, '戦': 11, 'よ': 17, 'ベ': 3, 'が': 14, '易': 1, '度': 4, 'ア': 10, 'ッ': 17, 'る': 24, '遊': 1, 'び': 2, '途': 1, '続': 1, '能': 5, '最': 4, '適': 1, 'げ': 3, '空': 3, '欄': 1, '埋': 1, 'シ': 8, 'フ': 2, '並': 1, '変': 1, 'タ': 7, '詰': 1, '相': 2, '談': 1, '報': 2, '酬': 2, 'ェ': 3, '電': 1, '球': 1, 'ヒ': 2, '貰': 1, '購': 1, '動': 7, '画': 3, '視': 1, '聴': 1, '獲': 1, '得': 2, '真': 3, '目': 1, '指': 1, 'そ': 1, 'サ': 1, 'ポ': 2, 'ヘ': 1, '御': 5, '灵': 5, '绘': 4, '卷': 4, '超': 3, '气': 2, '类': 1, '手': 4, '强': 3, '竞': 1, '华': 4, '丽': 1, '风': 6, '百': 3, '位': 2, '声': 6, '及': 1, '原': 4, '汁': 1, '味': 1, '幻': 3, '故': 1, '事': 2, '畅': 1, '快': 2, '对': 5, '战': 5, '世': 8, '享': 2, '视': 2, '觉': 1, '饕': 1, '餮': 1, '盛': 3, '宴': 2, '由': 3, '于': 4, '刺': 1, '激': 1, '趣': 1, '精': 1, '美': 7, '阵': 4, '容': 2, '因': 1, '此': 3, '就': 1, '获': 1, '高': 2, '评': 1, '架': 1, '玄': 1, '背': 1, '景': 2, '为': 2, '题': 2, '材': 1, '传': 1, '说': 1, '白': 1, '昼': 1, '与': 2, '黑': 1, '夜': 1, '交': 1, '之': 5, '黄': 1, '昏': 1, '暗': 1, '沉': 1, '刻': 2, '正': 2, '阴': 6, '阳': 6, '两': 3, '叠': 1, '剎': 1, '那': 1, '魑': 1, '魅': 2, '魍': 1, '魉': 1, '鬼': 1, '神': 7, '会': 9, '守': 3, '护': 1, '京': 3, '城': 1, '师': 4, '们': 4, '使': 1, '用': 4, '抵': 1, '侵': 1, '妖': 2, '怪': 1, '卫': 1, '尘': 1, '安': 3, '宁': 1, '特': 3, '色': 1, '唯': 3, '助': 2, '前': 2, '豪': 3, '顶': 1, '级': 2, '团': 1, '队': 2, '配': 1, '音': 2, '点': 2, '燃': 1, '心': 2, '热': 2, '血': 1, '带': 3, '受': 1, '史': 1, '无': 1, '例': 1, '听': 2, '除': 1, '诚': 1, '意': 4, '十': 1, '足': 1, '还': 3, '古': 1, '韶': 1, '都': 3, '赏': 1, '秋': 2, '枫': 2, '红': 1, '春': 1, '樱': 1, '冬': 1, '雪': 1, '花': 3, '火': 2, '物': 1, '来': 3, '绚': 1, '烂': 1, '旅': 1, '谁': 3, '争': 3, '霸': 3, '巅': 2, '峰': 2, '擂': 2, '赛': 3, '这': 1, '次': 4, '各': 2, '众': 1, '竟': 1, '称': 1, '外': 1, '开': 2, '即': 1, '齐': 1, '聚': 1, '堂': 1, '第': 2, '名': 1, '号': 1, '呢': 1, '令': 1, '封': 1, '印': 1, '收': 1, '魂': 1, '碎': 1, '片': 1, '唤': 2, '醒': 1, '他': 2, '做': 1, '着': 2, '双': 1, '重': 1, '属': 6, '变': 3, '拥': 1, '水': 2, '电': 1, '召': 1, '降': 1, '帮': 1, '逆': 1, '转': 1, '社': 1, '群': 1, '我': 5, '庭': 2, '组': 1, '刷': 1, '挂': 1, '机': 1, '练': 1, '功': 1, '哈': 1, '冒': 2, '险': 2, '闹': 1, '温': 1, '暖': 2, '恋': 1, '爱': 1, '专': 1, '缘': 1, '喜': 3, '看': 1, '烟': 1, '蹦': 1, '迪': 1, '跳': 1, '舞': 1, '解': 2, '任': 3, '务': 1, '牵': 1, '奔': 1, '跑': 1, '偷': 2, '恶': 1, '剧': 1, '动': 1, '只': 1, '绝': 1, '域': 1, '宝': 7, '奶': 2, '爸': 1, '妈': 1, '萌': 2, '太': 1, '萝': 1, '莉': 1, '培': 1, '养': 1, '通': 1, '过': 1, '升': 1, '改': 1, '样': 1, '貌': 1, '从': 1, '襁': 1, '褓': 1, '婴': 1, '儿': 1, '成': 5, '撒': 1, '娇': 1, '抱': 2, '孩': 1, '童': 1, '长': 1, '后': 1, '斗': 1, '非': 1, '常': 1, '决': 1, '遇': 2, '何': 1, '问': 1, '迎': 1, '联': 1, '微': 1, '信': 1, '概': 1, '闘': 5, 'テ': 10, 'ィ': 3, '編': 2, 'カ': 4, 'ギ': 1, '握': 1, 'オ': 2, 'リ': 8, 'ハ': 1, '絵': 1, 'バ': 7, 'メ': 3, '機': 3, '車': 1, '総': 1, '勢': 1, 'ラ': 4, '場': 4, '操': 5, '移': 1, '発': 1, '弾': 1, '現': 2, 'ビ': 1, 'ど': 6, '迫': 2, 'エ': 1, '二': 2, '元': 1, '験': 1, 'せ': 3, '緊': 1, '進': 2, 'ョ': 2, 'ユ': 1, 'ニ': 2, '苦': 1, 'ご': 2, '必': 2, '略': 2, '様': 2, '々': 4, '攻': 1, '腕': 1, '酒': 2, '彼': 1, '食': 1, '馳': 1, '走': 1, 'お': 2, '奢': 1, '親': 1, '密': 1, '値': 1, '仲': 2, '早': 3, 'ほ': 1, '育': 1, 'む': 1, '遭': 1, '決': 1, '逃': 1, '彩': 3, 'モ': 2, '繰': 1, '広': 1, 'ヤ': 2, '競': 2, '強': 2, '参': 2, '模': 1, '擬': 1, '実': 1, '愛': 2, '縦': 1, '敵': 1, '撃': 1, '破': 1, '掃': 2, '討': 2, '忙': 1, '活': 1, 'ホ': 1, 'ピ': 1, 'ミ': 1, '華': 1, '優': 1, '陣': 1, '付': 1, '雨': 1, '宮': 2, '済': 1, '知': 1, '佳': 1, '池': 1, '田': 4, '秀': 1, '川': 1, '依': 1, '井': 1, '里': 2, '奈': 3, '内': 1, '礼': 1, '西': 1, '沙': 2, '織': 2, '倉': 2, '茅': 1, '野': 1, '衣': 1, '村': 2, '英': 1, '梨': 1, '釘': 1, '理': 1, '恵': 1, '斎': 1, '藤': 2, '千': 2, '佐': 1, '綾': 2, '杉': 1, '智': 1, '木': 1, '竹': 1, '達': 1, '悠': 1, '子': 1, '福': 2, '圓': 1, '香': 1, '茜': 1, '樹': 1, 'ゆ': 1, '심': 2, '할': 6, '때': 3, '번': 7, '씩': 1, '즐': 3, '기': 51, '는': 23, '고': 30, '스': 39, '톱': 7, '맞': 6, '복': 2, '잡': 1, '하': 49, '요': 14, '란': 1, '화': 14, '면': 5, '이': 97, '부': 5, '담': 3, '러': 9, '우': 8, '셨': 3, '나': 17, '게': 40, '임': 39, '뚝': 2, '끊': 2, '바': 10, '람': 1, '에': 26, '답': 2, '그': 14, '냥': 1, '가': 48, '볍': 2, '을': 40, '싶': 1, '은': 10, '데': 16, '머': 2, '니': 35, '를': 25, '구': 35, '매': 12, '해': 25, '야': 11, '서': 27, '불': 8, '편': 7, '렇': 1, '다': 54, '플': 8, '레': 14, '보': 20, '세': 14, '아': 17, '무': 5, '꺼': 1, '내': 11, '판': 9, '끄': 2, '럽': 5, '깔': 2, '끔': 2, '걱': 2, '정': 32, '없': 8, '료': 9, '로': 57, '겨': 1, '특': 4, '징': 1, '빠': 3, '른': 7, '시': 33, '작': 3, '운': 13, '투': 7, '패': 2, '리': 23, '치': 14, '생': 7, '느': 2, '낌': 1, '직': 1, '접': 19, '귀': 3, '찮': 1, '땐': 1, '자': 18, '동': 14, '대': 15, '박': 1, '의': 38, '긴': 1, '장': 28, '감': 2, '말': 4, '속': 3, '도': 15, '재': 2, '미': 7, '난': 1, '애': 2, '메': 8, '션': 6, '효': 2, '과': 11, '눈': 1, '피': 1, '지': 31, '않': 6, '깨': 1, '끗': 1, '디': 8, '인': 21, '만': 11, '테': 1, '마': 9, '설': 13, '육': 2, '성': 19, '으': 15, '듣': 1, '양': 8, '음': 6, '밀': 1, '규': 7, '칙': 1, '방': 8, '수': 36, '준': 1, '벨': 2, 'α': 2, '실': 15, '간': 13, '록': 6, '경': 9, '쟁': 4, '업': 23, '적': 19, '달': 1, '상': 21, '통': 8, '계': 6, '확': 6, '종': 7, '저': 20, '능': 19, '꿔': 1, '중': 4, '백': 3, '모': 14, '든': 1, '것': 2, '터': 13, '뉴': 1, '용': 37, '진': 12, '행': 4, '글': 3, '버': 4, '올': 2, '있': 14, '습': 13, '일': 9, '필': 12, '및': 13, '오': 10, '류': 6, '발': 7, '프': 14, '삭': 5, '제': 27, '후': 6, '새': 3, '여': 5, '앱': 8, '단': 8, '며': 3, '된': 7, '초': 1, '될': 3, '물': 2, '관': 12, '위': 15, '원': 12, '회': 13, '등': 15, '급': 7, '분': 3, '호': 10, '소': 7, '섭': 1, '안': 6, '젤': 1, '선': 29, '택': 9, '공': 13, '식': 7, '카': 8, '페': 7, '사': 32, '전': 23, '예': 5, '약': 5, '별': 9, '배': 2, '포': 1, '함': 1, '명': 3, '력': 3, '손': 3, '액': 4, '타': 7, '검': 2, '폭': 2, '풍': 1, '라': 14, '연': 12, '맹': 2, '영': 12, '탈': 1, '환': 5, '핏': 1, '빛': 1, '각': 3, '주': 7, '향': 4, '찔': 1, '맛': 1, '템': 11, '개': 19, '녹': 2, '루': 2, '틈': 1, '령': 1, '신': 10, '병': 2, '법': 6, '채': 1, '쁨': 1, '껴': 1, '너': 1, '와': 3, '남': 2, '맺': 1, '름': 3, '또': 3, '당': 3, '린': 1, '꾸': 1, '려': 1, '넘': 2, '코': 6, '튬': 1, '파': 4, '찾': 1, '거': 5, '침': 2, '최': 7, '램': 2, '집': 2, '태': 2, '합': 10, '케': 3, '팅': 1, '홍': 1, '광': 1, '활': 3, '본': 1, '되': 2, '비': 12, '까': 3, '유': 6, '권': 25, '엑': 1, '걸': 1, '입': 1, '크': 3, '됩': 6, '푸': 1, '쉬': 1, '알': 1, '림': 1, '근': 18, '철': 10, '체': 5, '므': 2, '트': 12, '락': 5, '처': 5, '울': 5, '금': 5, '천': 1, '산': 3, '폴': 1, '년': 6, '월': 4, '드': 22, '추': 17, '벤': 2, '낱': 1, '봉': 1, '콘': 1, '텐': 1, '츠': 1, '벌': 1, '현': 6, '클': 5, '래': 2, '셔': 1, '널': 1, '변': 3, '팩': 1, '먹': 1, '교': 1, '출': 2, '석': 1, '궤': 1, '표': 4, '옵': 2, '강': 6, '틴': 1, '돌': 1, '컨': 1, '랭': 1, '커': 1, '친': 2, '촬': 1, '블': 3, '릿': 1, '품': 3, '조': 3, '건': 3, '넷': 2, '따': 5, '결': 4, '외': 2, '율': 1, '청': 4, '캐': 1, '릭': 1, '즉': 1, '객': 2, '센': 2, '평': 1, '듀': 1, '얼': 3, '털': 2, '취': 1, '책': 1, '밸': 1, '즈': 2, '층': 1, '더': 6, '욱': 5, '민': 1, '컴': 7, '극': 1, '티': 3, '랑': 1, '들': 5, '격': 2, '열': 2, '완': 3, '토': 1, '두': 1, '목': 1, '곰': 1, '김': 1, '몬': 1, '살': 1, '홈': 7, '런': 5, '얄': 2, '픈': 2, '승': 1, '좌': 1, '왕': 3, '측': 2, '끝': 1, '획': 1, '득': 1, '벽': 2, '반': 1, '탯': 1, '창': 1, '키': 1, '움': 1, '굴': 1, '워': 1, '델': 1, '링': 1, '역': 1, '퇴': 1, '폼': 2, '덕': 1, '웃': 1, '퀄': 1, '쾌': 1, '춤': 1, '형': 1, '졌': 1, '폰': 1, '같': 2, '브': 2, '허': 1, '련': 3, '립': 2, '북': 1, '갤': 1, '럭': 1, '탁': 1, '문': 2}\n"
     ]
    }
   ],
   "source": [
    "# TODO: Replace the next line with your own code.\n",
    "from collections import Counter \n",
    "terms = []\n",
    "Dict = {}\n",
    "for desc in df['description']:\n",
    "    for word in desc:\n",
    "        if word in Dict:\n",
    "            Dict[word] = Dict[word] + 1\n",
    "        else:\n",
    "            Dict[word] = 1\n",
    "    \n",
    "print(Dict)"
   ]
  },
  {
   "cell_type": "markdown",
   "metadata": {},
   "source": [
    "Now, print the 10 terms with the lowest/highest idf. How do you explain the results?"
   ]
  },
  {
   "cell_type": "code",
   "execution_count": null,
   "metadata": {
    "scrolled": true
   },
   "outputs": [],
   "source": [
    "print(terms[:10])"
   ]
  },
  {
   "cell_type": "markdown",
   "metadata": {},
   "source": [
    "## Problem 5: Keyword extraction"
   ]
  },
  {
   "cell_type": "markdown",
   "metadata": {},
   "source": [
    "We often want to extract salient keywords from a document. A simple method is to pick the $k$ terms with the highest tf–idf value. Your last task in this lab is to implement this method. More specifically, we ask you to implement a function `keywords` that extracts keywords from a text."
   ]
  },
  {
   "cell_type": "code",
   "execution_count": null,
   "metadata": {},
   "outputs": [],
   "source": [
    "def keywords(text, n=10):\n",
    "    # TODO: Replace the next line with your own code.\n",
    "    return []"
   ]
  },
  {
   "cell_type": "markdown",
   "metadata": {},
   "source": [
    "Your implementation should conform to the following specification:\n",
    "\n",
    "<strong>keywords</strong> (<em>text</em>, <em>n</em> = 10)\n",
    "\n",
    "> Returns a list with the $n$ (default value: 10) most salient keywords from the specified text, as measured by their tf–idf value relative to the collection of app descriptions."
   ]
  },
  {
   "cell_type": "markdown",
   "metadata": {},
   "source": [
    "### 🤞 Test your code\n",
    "\n",
    "Test your implementation by running the following cell:"
   ]
  },
  {
   "cell_type": "code",
   "execution_count": null,
   "metadata": {},
   "outputs": [],
   "source": [
    "print(keywords(df['description'][1428]))"
   ]
  },
  {
   "cell_type": "markdown",
   "metadata": {},
   "source": [
    "This should give output similar to the following:"
   ]
  },
  {
   "cell_type": "raw",
   "metadata": {},
   "source": [
    "['train', 'railway', 'railroad', 'rail', 'chaos', 'crash', 'tram', 'timetable', 're', 'overcast']"
   ]
  },
  {
   "cell_type": "markdown",
   "metadata": {},
   "source": [
    "The exact output may differ slightly depending on the strategy used to break ties."
   ]
  },
  {
   "cell_type": "markdown",
   "metadata": {},
   "source": [
    "## Reflection questions"
   ]
  },
  {
   "cell_type": "markdown",
   "metadata": {},
   "source": [
    "The following reflection questions will help you prepare for the diagnostic test. Answer each of them in the form of a short text and put your answers in the cell below. You will get feedback on your answers from your lab assistant."
   ]
  },
  {
   "cell_type": "markdown",
   "metadata": {},
   "source": [
    "**RQ 1.1:** Why do we remove common stop words and lemmatise the text? Can you give an example of a scenario where, in addition to common stopwords, there are also *application-specific* stop words?\n",
    "\n",
    "**RQ 1.2:** In Problem&nbsp;2, what do the dimensions of the matrix `X` correspond to? This matrix gives rise to different types of *representations*. Explain what these representations are. What information from the data is preserved, what information is lost in these representations?\n",
    "\n",
    "**RQ 1.3:** What does it mean that a term has a high/low idf value? Based on this, how can we use idf to automatically identify stop words? Why do you think is idf not used as a term weighting on its own, but always in connection with term frequency (tf–idf)?"
   ]
  },
  {
   "cell_type": "markdown",
   "metadata": {},
   "source": [
    "*TODO: Enter your answers here*"
   ]
  },
  {
   "cell_type": "markdown",
   "metadata": {},
   "source": [
    "**Congratulations on finishing L1! 👍**"
   ]
  }
 ],
 "metadata": {
  "kernelspec": {
   "display_name": "Python 3 (ipykernel)",
   "language": "python",
   "name": "python3"
  },
  "language_info": {
   "codemirror_mode": {
    "name": "ipython",
    "version": 3
   },
   "file_extension": ".py",
   "mimetype": "text/x-python",
   "name": "python",
   "nbconvert_exporter": "python",
   "pygments_lexer": "ipython3",
   "version": "3.8.10"
  }
 },
 "nbformat": 4,
 "nbformat_minor": 2
}
