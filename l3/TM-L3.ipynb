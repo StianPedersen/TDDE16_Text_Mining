{
 "cells": [
  {
   "cell_type": "markdown",
   "metadata": {},
   "source": [
    "# L3: Text clustering and topic modelling"
   ]
  },
  {
   "cell_type": "markdown",
   "metadata": {},
   "source": [
    "Text clustering groups documents in such a way that documents within a group are more &lsquo;similar&rsquo; to other documents in the cluster than to documents not in the cluster. The exact definition of what &lsquo;similar&rsquo; means in this context varies across applications and clustering algorithms.\n",
    "\n",
    "In this lab you will experiment with both hard and soft clustering techniques. More specifically, in the first part you will be using the $k$-means algorithm, and in the second part you will be using a topic model based on the Latent Dirichlet Allocation (LDA)."
   ]
  },
  {
   "cell_type": "markdown",
   "metadata": {},
   "source": [
    "**A quick reminder about our [Rules for hand-in assignments](https://www.ida.liu.se/~TDDE16/exam.en.shtml#handins) and the [Policy on cheating and plagiarism](https://www.ida.liu.se/~TDDE16/exam.en.shtml#cheating)**"
   ]
  },
  {
   "cell_type": "markdown",
   "metadata": {},
   "source": [
    "## Hard clustering data set"
   ]
  },
  {
   "cell_type": "markdown",
   "metadata": {},
   "source": [
    "The raw data for the hard clustering part of this lab is a collection of product reviews. We have preprocessed the data by tokenization and lowercasing."
   ]
  },
  {
   "cell_type": "code",
   "execution_count": 1,
   "metadata": {},
   "outputs": [],
   "source": [
    "import pandas as pd\n",
    "import bz2\n",
    "\n",
    "with bz2.open('reviews.json.bz2') as source:\n",
    "    df = pd.read_json(source)"
   ]
  },
  {
   "cell_type": "markdown",
   "metadata": {},
   "source": [
    "When you inspect the data frame, you can see that there are three labelled columns: `category` (the product category), `sentiment` (whether the product review was classified as &lsquo;positive&rsquo; or &lsquo;negative&rsquo; towards the product), and `text` (the space-separated text of the review)."
   ]
  },
  {
   "cell_type": "code",
   "execution_count": 2,
   "metadata": {},
   "outputs": [
    {
     "data": {
      "text/html": [
       "<div>\n",
       "<style scoped>\n",
       "    .dataframe tbody tr th:only-of-type {\n",
       "        vertical-align: middle;\n",
       "    }\n",
       "\n",
       "    .dataframe tbody tr th {\n",
       "        vertical-align: top;\n",
       "    }\n",
       "\n",
       "    .dataframe thead th {\n",
       "        text-align: right;\n",
       "    }\n",
       "</style>\n",
       "<table border=\"1\" class=\"dataframe\">\n",
       "  <thead>\n",
       "    <tr style=\"text-align: right;\">\n",
       "      <th></th>\n",
       "      <th>category</th>\n",
       "      <th>sentiment</th>\n",
       "      <th>text</th>\n",
       "    </tr>\n",
       "  </thead>\n",
       "  <tbody>\n",
       "    <tr>\n",
       "      <th>0</th>\n",
       "      <td>music</td>\n",
       "      <td>neg</td>\n",
       "      <td>i bought this album because i loved the title ...</td>\n",
       "    </tr>\n",
       "    <tr>\n",
       "      <th>1</th>\n",
       "      <td>music</td>\n",
       "      <td>neg</td>\n",
       "      <td>i was misled and thought i was buying the enti...</td>\n",
       "    </tr>\n",
       "    <tr>\n",
       "      <th>2</th>\n",
       "      <td>books</td>\n",
       "      <td>neg</td>\n",
       "      <td>i have introduced many of my ell , high school...</td>\n",
       "    </tr>\n",
       "    <tr>\n",
       "      <th>3</th>\n",
       "      <td>books</td>\n",
       "      <td>pos</td>\n",
       "      <td>anything you purchase in the left behind serie...</td>\n",
       "    </tr>\n",
       "    <tr>\n",
       "      <th>4</th>\n",
       "      <td>dvd</td>\n",
       "      <td>pos</td>\n",
       "      <td>i loved these movies , and i cant wiat for the...</td>\n",
       "    </tr>\n",
       "  </tbody>\n",
       "</table>\n",
       "</div>"
      ],
      "text/plain": [
       "  category sentiment                                               text\n",
       "0    music       neg  i bought this album because i loved the title ...\n",
       "1    music       neg  i was misled and thought i was buying the enti...\n",
       "2    books       neg  i have introduced many of my ell , high school...\n",
       "3    books       pos  anything you purchase in the left behind serie...\n",
       "4      dvd       pos  i loved these movies , and i cant wiat for the..."
      ]
     },
     "execution_count": 2,
     "metadata": {},
     "output_type": "execute_result"
    }
   ],
   "source": [
    "df.head()"
   ]
  },
  {
   "cell_type": "markdown",
   "metadata": {},
   "source": [
    "## Problem 1: K-means clustering"
   ]
  },
  {
   "cell_type": "markdown",
   "metadata": {},
   "source": [
    "Your first task is to cluster the product review data using a tf–idf vectorizer and a $k$-means clusterer."
   ]
  },
  {
   "cell_type": "markdown",
   "metadata": {},
   "source": [
    "Start by doing the vectorization. In connection with vectorization, you should also filter out standard English stop words. While you could use [spaCy](https://spacy.io/) for this task, here it suffices to use the word list implemented in [TfidfVectorizer](https://scikit-learn.org/stable/modules/generated/sklearn.feature_extraction.text.TfidfVectorizer.html)."
   ]
  },
  {
   "cell_type": "code",
   "execution_count": 3,
   "metadata": {},
   "outputs": [
    {
     "name": "stdout",
     "output_type": "stream",
     "text": [
      "music       2000\n",
      "books       2000\n",
      "dvd         2000\n",
      "health      2000\n",
      "camera      1999\n",
      "software    1915\n",
      "Name: category, dtype: int64\n"
     ]
    }
   ],
   "source": [
    "# TODO: Enter code here to vectorize the data and store it in a variable`reviews`\n",
    "from sklearn.feature_extraction.text import TfidfVectorizer\n",
    "vectorizer = TfidfVectorizer(stop_words='english')\n",
    "reviews = vectorizer.fit_transform(df['text'])\n",
    "print(df['category'].value_counts())\n"
   ]
  },
  {
   "cell_type": "markdown",
   "metadata": {},
   "source": [
    "Test your vectorization by running the following code cell:"
   ]
  },
  {
   "cell_type": "code",
   "execution_count": 4,
   "metadata": {},
   "outputs": [
    {
     "data": {
      "text/plain": [
       "(11914, 46619)"
      ]
     },
     "execution_count": 4,
     "metadata": {},
     "output_type": "execute_result"
    }
   ],
   "source": [
    "reviews.shape"
   ]
  },
  {
   "cell_type": "markdown",
   "metadata": {},
   "source": [
    "If you used the English stop word list from scikit-learn, then the resulting vocabulary should have 46,619 entries."
   ]
  },
  {
   "cell_type": "markdown",
   "metadata": {},
   "source": [
    "Next, cluster the vectorized data. Before doing so, you should read the documentation of the [KMeans](https://scikit-learn.org/stable/modules/generated/sklearn.cluster.KMeans.html) class, which is scikit-learn&rsquo;s implementation of the $k$-means algorithm. As you can see, this class has several parameters that you can tweak. For now, the only parameter that you will have to set is the number of clusters. Start with $k=3$.\n",
    "\n",
    "**Tip:** Training $k$-means models will take some time. To speed things up, you can use the `n_init` parameter to control the number of times that the clustering is re-computed with different initial values. The default value for this parameter is 10; here and in the rest of this lab, you may want to set this to a lower value."
   ]
  },
  {
   "cell_type": "code",
   "execution_count": 5,
   "metadata": {},
   "outputs": [],
   "source": [
    "# TODO: Enter code here to cluster the vectorized data\n",
    "from sklearn.cluster import KMeans\n",
    "kmeans = KMeans(n_clusters=3, n_init=5 ).fit(reviews)"
   ]
  },
  {
   "cell_type": "markdown",
   "metadata": {},
   "source": [
    "To sanity-check your clustering, create a bar plot with the number of documents per cluster."
   ]
  },
  {
   "cell_type": "code",
   "execution_count": 6,
   "metadata": {},
   "outputs": [
    {
     "name": "stdout",
     "output_type": "stream",
     "text": [
      "[0 0 1 ... 0 0 0]\n",
      "['kmeans0' 'kmeans1' 'kmeans2']\n",
      "[[8.70293541e-04 6.60256461e-04 2.79490103e-05 ... 2.90939386e-05\n",
      "  2.24791979e-05 1.53597572e-05]\n",
      " [3.34691684e-04 7.10928281e-04 0.00000000e+00 ... 0.00000000e+00\n",
      "  0.00000000e+00 0.00000000e+00]\n",
      " [2.12215250e-03 9.63814316e-04 0.00000000e+00 ... 0.00000000e+00\n",
      "  0.00000000e+00 0.00000000e+00]]\n"
     ]
    },
    {
     "data": {
      "image/png": "[encoded data removed]",
      "text/plain": [
       "<Figure size 640x480 with 1 Axes>"
      ]
     },
     "metadata": {},
     "output_type": "display_data"
    }
   ],
   "source": [
    "# TODO: Enter code here to produce a bar plot of the cluster size\n",
    "import matplotlib.pyplot as plt\n",
    "print(kmeans.labels_)\n",
    "print(kmeans.get_feature_names_out())\n",
    "print(kmeans.cluster_centers_)\n",
    "plt.hist(kmeans.labels_)\n",
    "plt.show()"
   ]
  },
  {
   "cell_type": "markdown",
   "metadata": {},
   "source": [
    "Note that sizes may vary considerable between clusters and among different random seeds."
   ]
  },
  {
   "cell_type": "markdown",
   "metadata": {},
   "source": [
    "## Problem 2: Summarize clusters"
   ]
  },
  {
   "cell_type": "markdown",
   "metadata": {},
   "source": [
    "Once you have a clustering, you can try to see whether it is meaningful. One useful technique in that context is to generate a **summary** for each cluster by extracting the $n$ highest-weighted terms from the centroid of each cluster. Your next task is to implement this approach.\n",
    "\n",
    "**Hint:** You will need to construct an &lsquo;inverted vocabulary&rsquo; that allows you to map from the index of a term back to the original term."
   ]
  },
  {
   "cell_type": "code",
   "execution_count": 7,
   "metadata": {},
   "outputs": [
    {
     "name": "stdout",
     "output_type": "stream",
     "text": [
      "[ 2193 41931 22961 18604  7423 32505 24390 27522 44007 18315]\n",
      "[18315 22961 33676 39765 24390  3809 33667  5716 33309  5695]\n",
      "[18604 33181 44007 16435  4518 12123  6890  6980 31125 24143]\n",
      "album-time-just-great-cd-product-like-movie-use-good-\n",
      "good-just-reading-story-like-author-read-books-quot-book-\n",
      "great-quality-use-flash-battery-digital-camera-canon-pictures-lens-"
     ]
    }
   ],
   "source": [
    "# TODO: Enter code here to compute the cluster summaries and print them\n",
    "import numpy as np\n",
    "cluster_centroids = kmeans.cluster_centers_\n",
    "\n",
    "ind_0 = np.argpartition(cluster_centroids[0], -10)[-10:]\n",
    "print(ind_0)\n",
    "ind_1 = np.argpartition(cluster_centroids[1], -10)[-10:]\n",
    "print(ind_1)\n",
    "ind_2 = np.argpartition(cluster_centroids[2], -10)[-10:]\n",
    "print(ind_2)\n",
    "feature_names = vectorizer.get_feature_names_out()\n",
    "for x in ind_0:\n",
    "    print(feature_names[x], end=\"-\")\n",
    "print()\n",
    "for x in ind_1:\n",
    "    print(feature_names[x], end=\"-\")\n",
    "print()\n",
    "for x in ind_2:\n",
    "    print(feature_names[x], end=\"-\")"
   ]
  },
  {
   "cell_type": "markdown",
   "metadata": {},
   "source": [
    "Once you have computed the cluster summaries, take a minute to reflect on their quality. Is it clear what the reviews in a given cluster are about? Do the cluster summaries contain any unexpected terms?"
   ]
  },
  {
   "cell_type": "markdown",
   "metadata": {},
   "source": [
    "## Problem 3: Compare clusterings using the Rand index"
   ]
  },
  {
   "cell_type": "markdown",
   "metadata": {},
   "source": [
    "In some scenarios, you may have gold-standard class labels available for at least a subset of your documents. In these cases you can compute the **Rand index** of a clustering, and use this measure to compare the quality of different clusterings.\n",
    "\n",
    "To compute the Rand index, we view a clustering as a binary classifier on (unordered) pairs of documents. The classifier predicts &lsquo;positive&rsquo; if and only if the two documents belong to the same cluster. The (non-normalized) Rand index of the clustering is the accuracy of this classifier relative to a reference in which a document pair belongs to the &lsquo;positive&rsquo; class if and only if the two documents in the pair have the same gold-standard class label. You are supposed to implement the procedure yourselves, not import an external function.\n",
    "\n",
    "Compare clusterings with $k \\in \\{1,3,5,7\\}$ clusters. As your evaluation data, use the first 500 documents from the original data set along with their gold-standard categories (from the `category` column)."
   ]
  },
  {
   "cell_type": "code",
   "execution_count": 8,
   "metadata": {},
   "outputs": [
    {
     "name": "stdout",
     "output_type": "stream",
     "text": [
      "k =:  1\n",
      "0.16626052104208416\n",
      "k =:  3\n",
      "0.69425250501002\n",
      "k =:  5\n",
      "0.6709579158316633\n",
      "k =:  7\n",
      "0.7555751503006012\n"
     ]
    }
   ],
   "source": [
    "# TODO: Enter code here to (manually) compute the Rand indices for the two clusterings\n",
    "from scipy.special import comb\n",
    "from itertools import combinations\n",
    "\n",
    "labels = df['category'][0:500]\n",
    "\n",
    "\n",
    "unordered_pairs = list(combinations(range(len(labels)),2))\n",
    "\n",
    "\n",
    "for y in [1,3,5,7]:\n",
    "    true_p = 0\n",
    "    true_n = 0\n",
    "    kmeans = KMeans(n_clusters=y, n_init=5 ).fit(reviews)\n",
    "    pred_labels = kmeans.labels_[0:500]\n",
    "    for i in range(len(unordered_pairs)) :\n",
    "        if labels[unordered_pairs[i][0]] == labels[unordered_pairs[i][1]] and pred_labels[unordered_pairs[i][0]] == pred_labels[unordered_pairs[i][1]]: \n",
    "            true_p += 1\n",
    "        if not labels[unordered_pairs[i][0]] == labels[unordered_pairs[i][1]] and not pred_labels[unordered_pairs[i][0]] == pred_labels[unordered_pairs[i][1]]:\n",
    "            true_n += 1\n",
    "    print('k =: ', y)\n",
    "    print((true_p+true_n)/len(unordered_pairs))"
   ]
  },
  {
   "cell_type": "markdown",
   "metadata": {},
   "source": [
    "*TODO: Insert a summary of your results here*\n",
    "When computing the rand index for the clusters the best results we got was for a cluster of 7 and it seems to give better results for higher clusters. Since the dataset contains 6 goldstandars i makes sense that the cluster sizes of 5 and 7 gave the highest precision."
   ]
  },
  {
   "cell_type": "markdown",
   "metadata": {},
   "source": [
    "## Topic modelling data set"
   ]
  },
  {
   "cell_type": "markdown",
   "metadata": {},
   "source": [
    "The data set for the topic modelling part of this lab is the collection of all [State of the Union](https://en.wikipedia.org/wiki/State_of_the_Union) addresses from the years 1975–2000. These speeches come as a single text file with one sentence per line. The following code cell prints the first 5 lines from the data file:"
   ]
  },
  {
   "cell_type": "code",
   "execution_count": 9,
   "metadata": {},
   "outputs": [
    {
     "name": "stdout",
     "output_type": "stream",
     "text": [
      "mr speaker mr vice president members of the 94th congress and distinguished guests\n",
      "twenty six years ago a freshman congressman a young fellow with lots of idealism who was out to change the world stood before sam rayburn in the well of the house and solemnly swore to the same oath that all of you took yesterday an unforgettable experience and i congratulate you all\n",
      "two days later that same freshman stood at the back of this great chamber over there someplace as president truman all charged up by his single handed election victory reported as the constitution requires on the state of the union\n",
      "when the bipartisan applause stopped president truman said i am happy to report to this 81st congress that the state of the union is good our nation is better able than ever before to meet the needs of the american people and to give them their fair chance in the pursuit of happiness it is foremost among the nations of the world in the search for peace\n",
      "today that freshman member from michigan stands where mr truman stood and i must say to you that the state of the union is not good\n",
      "millions of americans are out of work\n"
     ]
    }
   ],
   "source": [
    "import spacy\n",
    "with open('sotu_1975_2000.txt') as source:\n",
    "    for i, line in enumerate(source):\n",
    "        print(line.rstrip())\n",
    "        if i >= 5:\n",
    "            break"
   ]
  },
  {
   "cell_type": "markdown",
   "metadata": {},
   "source": [
    "Take a few minutes to think about what topics you would expect in this data set."
   ]
  },
  {
   "cell_type": "code",
   "execution_count": 10,
   "metadata": {},
   "outputs": [],
   "source": [
    "#Based on the first lines of text we would expect politic topics and probably some USA topics"
   ]
  },
  {
   "cell_type": "markdown",
   "metadata": {},
   "source": [
    "## Problem 4: Train a topic model"
   ]
  },
  {
   "cell_type": "markdown",
   "metadata": {},
   "source": [
    "Your first task on the topic modelling data is to train an LDA model. For this task you will be using [spaCy](https://spacy.io/) and the [gensim](https://radimrehurek.com/gensim/) topic modelling library.\n",
    "\n",
    "Start by preprocessing the data using spaCy. Given that the data set for this problem is rather small, you do not have to exclude any components from the standard pipeline. Filter out stop words, non-alphabetic tokens, and tokens less than 3 characters in length. Store the documents as a nested list where the first level of nesting corresponds to the sentences and the second level corresponds to the tokens in each sentence."
   ]
  },
  {
   "cell_type": "code",
   "execution_count": 12,
   "metadata": {},
   "outputs": [],
   "source": [
    "# TODO: Replace the following lines with your own code for preprocessingthe documents\n",
    "import spacy\n",
    "nlp = spacy.load(\"en_core_web_sm\")\n",
    "def preprocess(text):\n",
    "    # TODO: Replace the next line with your own code.\n",
    "    doc = nlp(text)\n",
    "    list = []\n",
    "    for token in doc:\n",
    "        if not token.is_stop and token.is_alpha and len(token) >= 3:\n",
    "            list.append(token.text)\n",
    "    return list\n",
    "documents = []\n",
    "with open('sotu_1975_2000.txt') as source:\n",
    "    for line in source :\n",
    "        documents.append(preprocess(line))\n"
   ]
  },
  {
   "cell_type": "markdown",
   "metadata": {},
   "source": [
    "Test your preprocessing by running the following cell:"
   ]
  },
  {
   "cell_type": "code",
   "execution_count": 13,
   "metadata": {},
   "outputs": [
    {
     "name": "stdout",
     "output_type": "stream",
     "text": [
      "['reduce', 'oil', 'imports', 'million', 'barrels', 'day', 'end', 'year', 'million', 'barrels', 'day', 'end']\n"
     ]
    },
    {
     "data": {
      "text/plain": [
       "'reduce oil imports million barrels day end year million barrels day end'"
      ]
     },
     "execution_count": 13,
     "metadata": {},
     "output_type": "execute_result"
    }
   ],
   "source": [
    "print(documents[42])\n",
    "' '.join(documents[42])\n"
   ]
  },
  {
   "cell_type": "markdown",
   "metadata": {},
   "source": [
    "You should get the following output:"
   ]
  },
  {
   "cell_type": "raw",
   "metadata": {},
   "source": [
    "'reduce oil imports million barrels day end year million barrels day end'"
   ]
  },
  {
   "cell_type": "markdown",
   "metadata": {},
   "source": [
    "Once you have the list of documents, skim the section [Pre-process and vectorize the documents](https://radimrehurek.com/gensim/auto_examples/tutorials/run_lda.html#pre-process-and-vectorize-the-documents) of the gensim documentation to learn how to create the dictionary and the vectorized corpus representation required by gensim. (Note that you cannot use the standard scikit-learn pipeline in this case.) Then, write code to train an [LdaModel](https://radimrehurek.com/gensim/models/ldamodel.html) for $k=10$ topics, and using default values for all other parameters."
   ]
  },
  {
   "cell_type": "code",
   "execution_count": 19,
   "metadata": {},
   "outputs": [
    {
     "name": "stdout",
     "output_type": "stream",
     "text": [
      "8496\n",
      "2898\n"
     ]
    }
   ],
   "source": [
    "# TODO: Enter code here to train an LDA model and store it in a variable`model`\n",
    "from gensim.corpora import Dictionary\n",
    "from gensim.models import LdaModel\n",
    "dictionary = Dictionary(documents)\n",
    "corpus = [dictionary.doc2bow(doc) for doc in documents]\n",
    "print(len(dictionary))\n",
    "print(len(corpus))\n",
    "\n",
    "ẗemp = dictionary[0]\n",
    "id2word = dictionary.id2token\n",
    "model = LdaModel(\n",
    "    corpus=corpus,\n",
    "    id2word=id2word,\n",
    "    num_topics = 10\n",
    ")"
   ]
  },
  {
   "cell_type": "markdown",
   "metadata": {},
   "source": [
    "Once you have a trained model, run the following cell to print the topics:"
   ]
  },
  {
   "cell_type": "code",
   "execution_count": 20,
   "metadata": {},
   "outputs": [
    {
     "data": {
      "text/plain": [
       "[(0,\n",
       "  '0.015*\"year\" + 0.014*\"people\" + 0.010*\"let\" + 0.009*\"children\" + 0.009*\"health\" + 0.009*\"care\" + 0.008*\"americans\" + 0.007*\"new\" + 0.007*\"work\" + 0.006*\"budget\"'),\n",
       " (1,\n",
       "  '0.013*\"congress\" + 0.008*\"people\" + 0.008*\"immigrants\" + 0.006*\"country\" + 0.006*\"children\" + 0.006*\"years\" + 0.006*\"help\" + 0.006*\"medicare\" + 0.006*\"health\" + 0.006*\"year\"'),\n",
       " (2,\n",
       "  '0.017*\"america\" + 0.015*\"world\" + 0.013*\"new\" + 0.012*\"people\" + 0.008*\"years\" + 0.007*\"peace\" + 0.007*\"work\" + 0.006*\"year\" + 0.006*\"americans\" + 0.006*\"american\"'),\n",
       " (3,\n",
       "  '0.009*\"crime\" + 0.009*\"new\" + 0.009*\"america\" + 0.008*\"years\" + 0.008*\"work\" + 0.007*\"people\" + 0.007*\"states\" + 0.007*\"congress\" + 0.006*\"percent\" + 0.005*\"united\"'),\n",
       " (4,\n",
       "  '0.012*\"years\" + 0.010*\"tax\" + 0.009*\"know\" + 0.009*\"government\" + 0.008*\"people\" + 0.008*\"new\" + 0.007*\"work\" + 0.006*\"congress\" + 0.006*\"economic\" + 0.006*\"america\"'),\n",
       " (5,\n",
       "  '0.011*\"children\" + 0.010*\"work\" + 0.010*\"new\" + 0.008*\"america\" + 0.008*\"people\" + 0.008*\"support\" + 0.007*\"government\" + 0.007*\"help\" + 0.007*\"schools\" + 0.006*\"families\"'),\n",
       " (6,\n",
       "  '0.016*\"america\" + 0.015*\"new\" + 0.007*\"trade\" + 0.007*\"congress\" + 0.007*\"world\" + 0.005*\"american\" + 0.005*\"ask\" + 0.005*\"people\" + 0.005*\"nato\" + 0.005*\"pregnancy\"'),\n",
       " (7,\n",
       "  '0.008*\"america\" + 0.007*\"union\" + 0.007*\"state\" + 0.006*\"tonight\" + 0.006*\"peace\" + 0.005*\"americans\" + 0.005*\"years\" + 0.005*\"know\" + 0.005*\"nation\" + 0.005*\"war\"'),\n",
       " (8,\n",
       "  '0.011*\"nuclear\" + 0.008*\"world\" + 0.008*\"people\" + 0.007*\"weapons\" + 0.005*\"russia\" + 0.005*\"america\" + 0.004*\"help\" + 0.004*\"american\" + 0.004*\"government\" + 0.004*\"nation\"'),\n",
       " (9,\n",
       "  '0.017*\"year\" + 0.012*\"america\" + 0.011*\"americans\" + 0.007*\"people\" + 0.006*\"house\" + 0.005*\"million\" + 0.005*\"health\" + 0.005*\"care\" + 0.005*\"medicare\" + 0.005*\"new\"')]"
      ]
     },
     "execution_count": 20,
     "metadata": {},
     "output_type": "execute_result"
    }
   ],
   "source": [
    "model.print_topics()"
   ]
  },
  {
   "cell_type": "markdown",
   "metadata": {},
   "source": [
    "Inspect the topics. Can you &lsquo;label&rsquo; each topic with a short description of what it is about? Do the topics match your expectations?\n",
    "For some of the topics it is a bit difficult since they have similar words in the but they could probably be described decently with a short description.\n",
    "The  topics seem to matchup quite well with different political topics and some american specific ones which was according to our hypothesis."
   ]
  },
  {
   "cell_type": "code",
   "execution_count": null,
   "metadata": {},
   "outputs": [],
   "source": []
  },
  {
   "cell_type": "markdown",
   "metadata": {},
   "source": [
    "## Problem 5: Monitor a topic model for convergence"
   ]
  },
  {
   "cell_type": "markdown",
   "metadata": {},
   "source": [
    "When learning an LDA model, it is important to make sure that the training algorithm has converged to a stable posterior distribution. One way to do so is to plot, after each training epochs (or &lsquo;pass&rsquo;, in gensim parlance) the log likelihood of the training data under the posterior. Your last task in this lab is to create such a plot and, based on this, to suggest an appropriate number of epochs.\n",
    "\n",
    "To collect information about the posterior likelihood after each pass, we need to enable the logging facilities of gensim. Once this is done, gensim will add various diagnostics to a log file `gensim.log`."
   ]
  },
  {
   "cell_type": "code",
   "execution_count": 21,
   "metadata": {},
   "outputs": [],
   "source": [
    "import logging\n",
    "\n",
    "logging.basicConfig(filename='gensim.log', format='%(asctime)s:%(levelname)s:%(message)s', level=logging.INFO)"
   ]
  },
  {
   "cell_type": "markdown",
   "metadata": {},
   "source": [
    "The following function will parse the generated logfile and return the list of log likelihoods."
   ]
  },
  {
   "cell_type": "code",
   "execution_count": 22,
   "metadata": {},
   "outputs": [],
   "source": [
    "import re\n",
    "\n",
    "def parse_logfile():\n",
    "    matcher = re.compile('(-*\\d+\\.\\d+) per-word .* (\\d+\\.\\d+) perplexity')\n",
    "    likelihoods = []\n",
    "    with open('gensim.log') as source:\n",
    "        for line in source:\n",
    "            match = matcher.search(line)\n",
    "            if match:\n",
    "                likelihoods.append(float(match.group(1)))\n",
    "    return likelihoods"
   ]
  },
  {
   "cell_type": "markdown",
   "metadata": {},
   "source": [
    "Your task now is to re-train your LDA model for 50&nbsp;passes, retrieve the list of log likelihoods, and create a plot from this data."
   ]
  },
  {
   "cell_type": "code",
   "execution_count": 23,
   "metadata": {},
   "outputs": [],
   "source": [
    "# TODO: Enter code here to generate the convergence plot\n",
    "#open('gensim.log', 'w').close()\n",
    "model2 = LdaModel(\n",
    "    corpus=corpus,\n",
    "    id2word=id2word,\n",
    "    num_topics = 10, \n",
    "    passes = 50\n",
    ")\n",
    "\n",
    "logfile = parse_logfile()"
   ]
  },
  {
   "cell_type": "code",
   "execution_count": 24,
   "metadata": {},
   "outputs": [
    {
     "data": {
      "text/plain": [
       "[<matplotlib.lines.Line2D at 0x7ff7da4fa8b0>]"
      ]
     },
     "execution_count": 24,
     "metadata": {},
     "output_type": "execute_result"
    },
    {
     "data": {
      "image/png": "[encoded data removed]",
      "text/plain": [
       "<Figure size 640x480 with 1 Axes>"
      ]
     },
     "metadata": {},
     "output_type": "display_data"
    }
   ],
   "source": [
    "import matplotlib.pyplot as plt\n",
    "plt.plot(logfile)"
   ]
  },
  {
   "cell_type": "markdown",
   "metadata": {},
   "source": [
    "How do you interpret your plot? Based on the plot, what would be a reasonable choice for the number of passes? Retrain your LDA model with that number and re-inspect the topics it finds. Do you consider the new topics to be &lsquo;better&rsquo; than the ones that you got from the 1-pass model in Problem&nbsp;4?\n",
    "We interpret the plot by analysing where the \"knee\" of the graph is. This is the spot where changes are decreasing substantially and therefore the passes should be set to an area around this knee.\n",
    "\n",
    "Based on the plot, what would be a reasonable choice for the number of passes? \n",
    "10\n",
    "\n",
    "Do you consider the new topics to be &lsquo;better&rsquo; than the ones that you got from the 1-pass model in Problem&nbsp;4?\n",
    "We consider the topics that we get from the 10 pass model to be much better than our 1-pass model. We believe it captures less randomness and enchances the true topic of the document. Therefore, it is more homogenous and the words seem to be more correlated. This in its turn makes it easier to find the true topic of the document."
   ]
  },
  {
   "cell_type": "code",
   "execution_count": 26,
   "metadata": {},
   "outputs": [
    {
     "data": {
      "text/plain": [
       "[(0,\n",
       "  '0.015*\"year\" + 0.014*\"people\" + 0.010*\"let\" + 0.009*\"children\" + 0.009*\"health\" + 0.009*\"care\" + 0.008*\"americans\" + 0.007*\"new\" + 0.007*\"work\" + 0.006*\"budget\"'),\n",
       " (1,\n",
       "  '0.013*\"congress\" + 0.008*\"people\" + 0.008*\"immigrants\" + 0.006*\"country\" + 0.006*\"children\" + 0.006*\"years\" + 0.006*\"help\" + 0.006*\"medicare\" + 0.006*\"health\" + 0.006*\"year\"'),\n",
       " (2,\n",
       "  '0.017*\"america\" + 0.015*\"world\" + 0.013*\"new\" + 0.012*\"people\" + 0.008*\"years\" + 0.007*\"peace\" + 0.007*\"work\" + 0.006*\"year\" + 0.006*\"americans\" + 0.006*\"american\"'),\n",
       " (3,\n",
       "  '0.009*\"crime\" + 0.009*\"new\" + 0.009*\"america\" + 0.008*\"years\" + 0.008*\"work\" + 0.007*\"people\" + 0.007*\"states\" + 0.007*\"congress\" + 0.006*\"percent\" + 0.005*\"united\"'),\n",
       " (4,\n",
       "  '0.012*\"years\" + 0.010*\"tax\" + 0.009*\"know\" + 0.009*\"government\" + 0.008*\"people\" + 0.008*\"new\" + 0.007*\"work\" + 0.006*\"congress\" + 0.006*\"economic\" + 0.006*\"america\"'),\n",
       " (5,\n",
       "  '0.011*\"children\" + 0.010*\"work\" + 0.010*\"new\" + 0.008*\"america\" + 0.008*\"people\" + 0.008*\"support\" + 0.007*\"government\" + 0.007*\"help\" + 0.007*\"schools\" + 0.006*\"families\"'),\n",
       " (6,\n",
       "  '0.016*\"america\" + 0.015*\"new\" + 0.007*\"trade\" + 0.007*\"congress\" + 0.007*\"world\" + 0.005*\"american\" + 0.005*\"ask\" + 0.005*\"people\" + 0.005*\"nato\" + 0.005*\"pregnancy\"'),\n",
       " (7,\n",
       "  '0.008*\"america\" + 0.007*\"union\" + 0.007*\"state\" + 0.006*\"tonight\" + 0.006*\"peace\" + 0.005*\"americans\" + 0.005*\"years\" + 0.005*\"know\" + 0.005*\"nation\" + 0.005*\"war\"'),\n",
       " (8,\n",
       "  '0.011*\"nuclear\" + 0.008*\"world\" + 0.008*\"people\" + 0.007*\"weapons\" + 0.005*\"russia\" + 0.005*\"america\" + 0.004*\"help\" + 0.004*\"american\" + 0.004*\"government\" + 0.004*\"nation\"'),\n",
       " (9,\n",
       "  '0.017*\"year\" + 0.012*\"america\" + 0.011*\"americans\" + 0.007*\"people\" + 0.006*\"house\" + 0.005*\"million\" + 0.005*\"health\" + 0.005*\"care\" + 0.005*\"medicare\" + 0.005*\"new\"')]"
      ]
     },
     "execution_count": 26,
     "metadata": {},
     "output_type": "execute_result"
    }
   ],
   "source": [
    "#Based on the plot 10 passes should give a good enough answers \n",
    "#since the returns for additional passes are rapidly diminishing\n",
    "model3 = LdaModel(\n",
    "    corpus=corpus,\n",
    "    id2word=id2word,\n",
    "    num_topics = 10, \n",
    "    passes = 10\n",
    ")"
   ]
  },
  {
   "cell_type": "code",
   "execution_count": 29,
   "metadata": {},
   "outputs": [
    {
     "data": {
      "text/plain": [
       "[(0,\n",
       "  '0.015*\"year\" + 0.014*\"people\" + 0.010*\"let\" + 0.009*\"children\" + 0.009*\"health\" + 0.009*\"care\" + 0.008*\"americans\" + 0.007*\"new\" + 0.007*\"work\" + 0.006*\"budget\"'),\n",
       " (1,\n",
       "  '0.013*\"congress\" + 0.008*\"people\" + 0.008*\"immigrants\" + 0.006*\"country\" + 0.006*\"children\" + 0.006*\"years\" + 0.006*\"help\" + 0.006*\"medicare\" + 0.006*\"health\" + 0.006*\"year\"'),\n",
       " (2,\n",
       "  '0.017*\"america\" + 0.015*\"world\" + 0.013*\"new\" + 0.012*\"people\" + 0.008*\"years\" + 0.007*\"peace\" + 0.007*\"work\" + 0.006*\"year\" + 0.006*\"americans\" + 0.006*\"american\"'),\n",
       " (3,\n",
       "  '0.009*\"crime\" + 0.009*\"new\" + 0.009*\"america\" + 0.008*\"years\" + 0.008*\"work\" + 0.007*\"people\" + 0.007*\"states\" + 0.007*\"congress\" + 0.006*\"percent\" + 0.005*\"united\"'),\n",
       " (4,\n",
       "  '0.012*\"years\" + 0.010*\"tax\" + 0.009*\"know\" + 0.009*\"government\" + 0.008*\"people\" + 0.008*\"new\" + 0.007*\"work\" + 0.006*\"congress\" + 0.006*\"economic\" + 0.006*\"america\"'),\n",
       " (5,\n",
       "  '0.011*\"children\" + 0.010*\"work\" + 0.010*\"new\" + 0.008*\"america\" + 0.008*\"people\" + 0.008*\"support\" + 0.007*\"government\" + 0.007*\"help\" + 0.007*\"schools\" + 0.006*\"families\"'),\n",
       " (6,\n",
       "  '0.016*\"america\" + 0.015*\"new\" + 0.007*\"trade\" + 0.007*\"congress\" + 0.007*\"world\" + 0.005*\"american\" + 0.005*\"ask\" + 0.005*\"people\" + 0.005*\"nato\" + 0.005*\"pregnancy\"'),\n",
       " (7,\n",
       "  '0.008*\"america\" + 0.007*\"union\" + 0.007*\"state\" + 0.006*\"tonight\" + 0.006*\"peace\" + 0.005*\"americans\" + 0.005*\"years\" + 0.005*\"know\" + 0.005*\"nation\" + 0.005*\"war\"'),\n",
       " (8,\n",
       "  '0.011*\"nuclear\" + 0.008*\"world\" + 0.008*\"people\" + 0.007*\"weapons\" + 0.005*\"russia\" + 0.005*\"america\" + 0.004*\"help\" + 0.004*\"american\" + 0.004*\"government\" + 0.004*\"nation\"'),\n",
       " (9,\n",
       "  '0.017*\"year\" + 0.012*\"america\" + 0.011*\"americans\" + 0.007*\"people\" + 0.006*\"house\" + 0.005*\"million\" + 0.005*\"health\" + 0.005*\"care\" + 0.005*\"medicare\" + 0.005*\"new\"')]"
      ]
     },
     "execution_count": 29,
     "metadata": {},
     "output_type": "execute_result"
    }
   ],
   "source": [
    "model.print_topics()"
   ]
  },
  {
   "cell_type": "code",
   "execution_count": 30,
   "metadata": {},
   "outputs": [
    {
     "data": {
      "text/plain": [
       "[(0,\n",
       "  '0.020*\"world\" + 0.012*\"america\" + 0.012*\"peace\" + 0.010*\"nuclear\" + 0.009*\"war\" + 0.008*\"soviet\" + 0.008*\"security\" + 0.007*\"nations\" + 0.007*\"people\" + 0.007*\"years\"'),\n",
       " (1,\n",
       "  '0.013*\"new\" + 0.009*\"year\" + 0.009*\"people\" + 0.007*\"america\" + 0.007*\"states\" + 0.007*\"world\" + 0.006*\"united\" + 0.005*\"work\" + 0.005*\"time\" + 0.004*\"congress\"'),\n",
       " (2,\n",
       "  '0.015*\"government\" + 0.013*\"federal\" + 0.012*\"budget\" + 0.010*\"year\" + 0.009*\"programs\" + 0.008*\"social\" + 0.008*\"congress\" + 0.007*\"percent\" + 0.007*\"billion\" + 0.007*\"security\"'),\n",
       " (3,\n",
       "  '0.023*\"america\" + 0.014*\"people\" + 0.011*\"years\" + 0.011*\"world\" + 0.011*\"nation\" + 0.011*\"tonight\" + 0.010*\"century\" + 0.010*\"new\" + 0.009*\"let\" + 0.009*\"americans\"'),\n",
       " (4,\n",
       "  '0.010*\"people\" + 0.009*\"country\" + 0.008*\"covenant\" + 0.008*\"best\" + 0.007*\"america\" + 0.007*\"bosnia\" + 0.006*\"given\" + 0.006*\"lives\" + 0.006*\"technology\" + 0.006*\"life\"'),\n",
       " (5,\n",
       "  '0.016*\"congress\" + 0.010*\"year\" + 0.010*\"peace\" + 0.008*\"reform\" + 0.008*\"international\" + 0.007*\"help\" + 0.006*\"campaign\" + 0.006*\"scientists\" + 0.006*\"administration\" + 0.005*\"east\"'),\n",
       " (6,\n",
       "  '0.012*\"trade\" + 0.012*\"energy\" + 0.011*\"new\" + 0.007*\"policy\" + 0.007*\"world\" + 0.006*\"environment\" + 0.006*\"american\" + 0.006*\"foreign\" + 0.005*\"ask\" + 0.005*\"act\"'),\n",
       " (7,\n",
       "  '0.019*\"president\" + 0.019*\"house\" + 0.016*\"speaker\" + 0.016*\"congress\" + 0.011*\"members\" + 0.011*\"vice\" + 0.010*\"americans\" + 0.009*\"tonight\" + 0.007*\"fellow\" + 0.006*\"guests\"'),\n",
       " (8,\n",
       "  '0.018*\"schools\" + 0.017*\"school\" + 0.016*\"education\" + 0.015*\"new\" + 0.015*\"children\" + 0.014*\"college\" + 0.013*\"help\" + 0.009*\"teachers\" + 0.009*\"communities\" + 0.008*\"support\"'),\n",
       " (9,\n",
       "  '0.017*\"work\" + 0.016*\"people\" + 0.013*\"tax\" + 0.012*\"care\" + 0.012*\"children\" + 0.010*\"families\" + 0.010*\"health\" + 0.010*\"know\" + 0.010*\"welfare\" + 0.009*\"american\"')]"
      ]
     },
     "execution_count": 30,
     "metadata": {},
     "output_type": "execute_result"
    }
   ],
   "source": [
    "model3.print_topics()"
   ]
  },
  {
   "cell_type": "markdown",
   "metadata": {},
   "source": []
  },
  {
   "cell_type": "markdown",
   "metadata": {},
   "source": [
    "## Reflection questions"
   ]
  },
  {
   "cell_type": "markdown",
   "metadata": {},
   "source": [
    "The following reflection questions will help you prepare for the diagnostic test. Answer each of them in the form of a short text and put your answers in the cell below. You will get feedback on your answers from your lab assistant."
   ]
  },
  {
   "cell_type": "markdown",
   "metadata": {},
   "source": [
    "**RQ 3.1:** Based on your experiments in Problem&nbsp;2 and Problem&nbsp;3, what is the relation between the quality of a clustering and the number of clusters? What happens when the number of clusters is too low, or too high? For this particular data set, what would a &lsquo;good&rsquo; number of clusters be?\n",
    "Ideally what should happen is that the quality of the clustering should be correlated to the amount of gold standard labels. In this case since there are 6 gold standard labels topics ideally a 6 clusters should give good quality cluster which is what we saw since using 5 and 7 clusters got the best quality clusters. If the number clusters is to low the model will not be able to create the significant distinctions between different topics and if the amount of clusters is to high the model will have to make based on something else then the original topics. Having a high amount of clusters might be misleading since if the cluster amount is equal to the number of documents it will be a perfects map but it will not give us any useful information.\n",
    "**RQ 3.2:** Explain why it is important to monitor an LDA model for convergence and not simply use, say, 1000&nbsp;passes. How is the log likelihood used in this context? Were the topics from the multi-pass model &lsquo;better&rsquo; than the topics from the 1-pass model?\n",
    "Since the calculations of posterior distributions get very computationally heavy it makes sense to instead check for convergence saving a computational costs. It is used to estimate the convergence of the posterior probability or the likelihood function which is the joint probability of the observed data.\n",
    "The topics of the multi-pass model seemed a bit more coherent for us as humans to describe with labels which should be expected since we chose a number of passes based on the convergence of the posterior distribution.\n",
    "\n",
    "**RQ 3.3:** What are the differences between $k$-means and LDA? When would you use one, when the other?\n",
    "The difference between k-means and LDA is that k-means is a type of hard clustering, whereas LDA is refered to as a soft clustering.\n",
    "\n",
    "Hard clustering is when a document is strictly assigned to one cluster group. In other words, each document will be assigned to a single cluster.\n",
    "\n",
    "Soft clustering (LDA) produces more than one topic for each document. More specifically, it produces a probability distribution of topics for each document. In simpler terms the LDA algorithm gives us a result of how likely a document belongs to X topics.\n",
    "\n",
    "K-means kan appropriately be used if we know beforehand approximately how many topics there will be. LDA can on the other hand be used if we do not know anything about the topics."
   ]
  },
  {
   "cell_type": "markdown",
   "metadata": {},
   "source": [
    "*TODO: Enter your answers here*"
   ]
  },
  {
   "cell_type": "markdown",
   "metadata": {},
   "source": [
    "**Congratulations on finishing L3! 👍**"
   ]
  }
 ],
 "metadata": {
  "kernelspec": {
   "display_name": "Python 3 (ipykernel)",
   "language": "python",
   "name": "python3"
  },
  "language_info": {
   "codemirror_mode": {
    "name": "ipython",
    "version": 3
   },
   "file_extension": ".py",
   "mimetype": "text/x-python",
   "name": "python",
   "nbconvert_exporter": "python",
   "pygments_lexer": "ipython3",
   "version": "3.8.10"
  }
 },
 "nbformat": 4,
 "nbformat_minor": 2
}
